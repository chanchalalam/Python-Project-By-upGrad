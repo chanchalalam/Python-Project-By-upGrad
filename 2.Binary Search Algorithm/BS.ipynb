{
 "cells": [
  {
   "cell_type": "code",
   "execution_count": 23,
   "id": "c310c62b",
   "metadata": {},
   "outputs": [
    {
     "name": "stdout",
     "output_type": "stream",
     "text": [
      "Enter the number of the element of the list: 56\n",
      "Enter the number to search for: 5\n",
      "The number is not in the list.\n"
     ]
    }
   ],
   "source": [
    "import random\n",
    "#function to generate a list of random number with a difference of 2 between\n",
    "def generate_list(n):\n",
    "    lst=[random.randint(0,100) for i in range(n)]\n",
    "    lst.sort()\n",
    "    for i in range(1,len(lst)):\n",
    "        lst[i]=lst[i-1]+2\n",
    "    return lst\n",
    "#function to perform binary search on the list\n",
    "def binary_search(lst,x):\n",
    "    start=0\n",
    "    end=len(lst)-1\n",
    "    while start<= end:\n",
    "        mid=(start+end)//2\n",
    "        if lst[mid] == x:\n",
    "            return True\n",
    "        elif lst[mid]<x:\n",
    "            start = mid +1\n",
    "        else:\n",
    "            end= mid-1\n",
    "        return False      \n",
    "    \n",
    "#Get input from the user\n",
    "n= int(input(\"Enter the number of the element of the list: \"))\n",
    "x= int(input(\"Enter the number to search for: \"))\n",
    "\n",
    "#Generate the list and perform binary search\n",
    "lst= generate_list(n)\n",
    "result = binary_search(lst,x)\n",
    "\n",
    "# Print the result \n",
    "if result:\n",
    "    print(\"The number is in the list.\")\n",
    "else:\n",
    "    print(\"The number is not in the list.\")"
   ]
  },
  {
   "cell_type": "code",
   "execution_count": null,
   "id": "eae94da3",
   "metadata": {},
   "outputs": [],
   "source": []
  },
  {
   "cell_type": "code",
   "execution_count": null,
   "id": "334e7a50",
   "metadata": {},
   "outputs": [],
   "source": []
  },
  {
   "cell_type": "code",
   "execution_count": null,
   "id": "2612148e",
   "metadata": {},
   "outputs": [],
   "source": []
  },
  {
   "cell_type": "code",
   "execution_count": null,
   "id": "bfcfefd1",
   "metadata": {},
   "outputs": [],
   "source": []
  },
  {
   "cell_type": "code",
   "execution_count": null,
   "id": "641eb5c6",
   "metadata": {},
   "outputs": [],
   "source": []
  },
  {
   "cell_type": "code",
   "execution_count": null,
   "id": "517e0ff8",
   "metadata": {},
   "outputs": [],
   "source": []
  }
 ],
 "metadata": {
  "kernelspec": {
   "display_name": "Python 3 (ipykernel)",
   "language": "python",
   "name": "python3"
  },
  "language_info": {
   "codemirror_mode": {
    "name": "ipython",
    "version": 3
   },
   "file_extension": ".py",
   "mimetype": "text/x-python",
   "name": "python",
   "nbconvert_exporter": "python",
   "pygments_lexer": "ipython3",
   "version": "3.9.13"
  }
 },
 "nbformat": 4,
 "nbformat_minor": 5
}
