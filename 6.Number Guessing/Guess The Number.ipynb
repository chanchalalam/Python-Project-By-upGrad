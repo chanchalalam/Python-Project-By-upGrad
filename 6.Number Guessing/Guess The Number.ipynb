{
 "cells": [
  {
   "cell_type": "code",
   "execution_count": 1,
   "id": "2610da78",
   "metadata": {},
   "outputs": [
    {
     "name": "stdout",
     "output_type": "stream",
     "text": [
      "Guess the number:3\n",
      "The number is higher than your guess\n",
      "Guess the number:45\n",
      "The number is higher than your guess\n",
      "Guess the number:78\n",
      "The number is lower than your guess\n",
      "Guess the number:67\n",
      "The number is lower than your guess\n",
      "Guess the number:57\n",
      "The number is higher than your guess\n",
      "Guess the number:60\n",
      "The number is higher than your guess\n",
      "Guess the number:65\n",
      "The number is lower than your guess\n",
      "Guess the number:63\n",
      "Congratulations! You guessed the number\n",
      "Your final score is: 30\n"
     ]
    }
   ],
   "source": [
    "import random \n",
    "\n",
    "def generate_random_number(start, end): \n",
    "    return random.randint(start, end) \n",
    "\n",
    "def get_guess(): \n",
    "    while True: \n",
    "        try: \n",
    "            guess = int(input(\"Guess the number:\")) \n",
    "            return guess \n",
    "        except ValueError: \n",
    "            print(\"Invalid input. Please Enter the number.\") \n",
    "\n",
    "def check_guess(guess, answer): \n",
    "        if guess == answer: \n",
    "            return True \n",
    "        else: \n",
    "            return False \n",
    "\n",
    "def give_hint(guess, answer): \n",
    "        if guess < answer: \n",
    "            print(\"The number is higher than your guess\") \n",
    "        else: \n",
    "            print(\"The number is lower than your guess\") \n",
    "\n",
    "def play_game(start, end): \n",
    "        answer = generate_random_number(start,end) \n",
    "        score = 100 \n",
    "        while True: \n",
    "            guess = get_guess() \n",
    "            if check_guess(guess, answer): \n",
    "                print(\"Congratulations! You guessed the number\")\n",
    "                print(\"Your final score is:\", score)\n",
    "                break\n",
    "            else: \n",
    "                give_hint(guess, answer) \n",
    "                score -= 10 \n",
    "play_game(1,100)"
   ]
  },
  {
   "cell_type": "code",
   "execution_count": null,
   "id": "b4b078d9",
   "metadata": {},
   "outputs": [],
   "source": []
  }
 ],
 "metadata": {
  "kernelspec": {
   "display_name": "Python 3 (ipykernel)",
   "language": "python",
   "name": "python3"
  },
  "language_info": {
   "codemirror_mode": {
    "name": "ipython",
    "version": 3
   },
   "file_extension": ".py",
   "mimetype": "text/x-python",
   "name": "python",
   "nbconvert_exporter": "python",
   "pygments_lexer": "ipython3",
   "version": "3.9.13"
  }
 },
 "nbformat": 4,
 "nbformat_minor": 5
}
